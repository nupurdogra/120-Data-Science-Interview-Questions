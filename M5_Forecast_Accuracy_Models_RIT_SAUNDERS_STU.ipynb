{
  "nbformat": 4,
  "nbformat_minor": 0,
  "metadata": {
    "kernelspec": {
      "display_name": "Python 3",
      "language": "python",
      "name": "python3"
    },
    "language_info": {
      "codemirror_mode": {
        "name": "ipython",
        "version": 3
      },
      "file_extension": ".py",
      "mimetype": "text/x-python",
      "name": "python",
      "nbconvert_exporter": "python",
      "pygments_lexer": "ipython3",
      "version": "3.7.3"
    },
    "colab": {
      "name": "M5_Forecast_Accuracy_Models_RIT_SAUNDERS_STU.ipynb",
      "provenance": [],
      "collapsed_sections": [],
      "machine_shape": "hm",
      "include_colab_link": true
    },
    "accelerator": "TPU"
  },
  "cells": [
    {
      "cell_type": "markdown",
      "metadata": {
        "id": "view-in-github",
        "colab_type": "text"
      },
      "source": [
        "<a href=\"https://colab.research.google.com/github/nupurdogra/120-Data-Science-Interview-Questions/blob/master/M5_Forecast_Accuracy_Models_RIT_SAUNDERS_STU.ipynb\" target=\"_parent\"><img src=\"https://colab.research.google.com/assets/colab-badge.svg\" alt=\"Open In Colab\"/></a>"
      ]
    },
    {
      "cell_type": "markdown",
      "metadata": {
        "id": "bWZS19ccI-4v",
        "colab_type": "text"
      },
      "source": [
        "Mounting drive"
      ]
    },
    {
      "cell_type": "code",
      "metadata": {
        "id": "mMhNOZmvIG60",
        "colab_type": "code",
        "colab": {
          "base_uri": "https://localhost:8080/",
          "height": 34
        },
        "outputId": "abbe6338-c93e-4cf1-c281-40fdaa883f26"
      },
      "source": [
        "from google.colab import drive\n",
        "drive.mount('/content/drive')"
      ],
      "execution_count": null,
      "outputs": [
        {
          "output_type": "stream",
          "text": [
            "Drive already mounted at /content/drive; to attempt to forcibly remount, call drive.mount(\"/content/drive\", force_remount=True).\n"
          ],
          "name": "stdout"
        }
      ]
    },
    {
      "cell_type": "code",
      "metadata": {
        "id": "y7zVrh3FLLOi",
        "colab_type": "code",
        "colab": {
          "base_uri": "https://localhost:8080/",
          "height": 252
        },
        "outputId": "55f2e2df-5a6c-42db-be7e-0eba4165cbb1"
      },
      "source": [
        "pip install plotly_express==0.4.0"
      ],
      "execution_count": null,
      "outputs": [
        {
          "output_type": "stream",
          "text": [
            "Collecting plotly_express==0.4.0\n",
            "  Downloading https://files.pythonhosted.org/packages/04/c2/e16037e4cc6bb9a6fb35eea102d7cffa06376fcd35e5523c880b64588778/plotly_express-0.4.0-py2.py3-none-any.whl\n",
            "Requirement already satisfied: patsy>=0.5 in /usr/local/lib/python3.6/dist-packages (from plotly_express==0.4.0) (0.5.1)\n",
            "Requirement already satisfied: scipy>=0.18 in /usr/local/lib/python3.6/dist-packages (from plotly_express==0.4.0) (1.4.1)\n",
            "Requirement already satisfied: numpy>=1.11 in /usr/local/lib/python3.6/dist-packages (from plotly_express==0.4.0) (1.18.5)\n",
            "Requirement already satisfied: statsmodels>=0.9.0 in /usr/local/lib/python3.6/dist-packages (from plotly_express==0.4.0) (0.10.2)\n",
            "Requirement already satisfied: pandas>=0.20.0 in /usr/local/lib/python3.6/dist-packages (from plotly_express==0.4.0) (1.0.5)\n",
            "Requirement already satisfied: plotly>=4.0.0 in /usr/local/lib/python3.6/dist-packages (from plotly_express==0.4.0) (4.4.1)\n",
            "Requirement already satisfied: six in /usr/local/lib/python3.6/dist-packages (from patsy>=0.5->plotly_express==0.4.0) (1.12.0)\n",
            "Requirement already satisfied: pytz>=2017.2 in /usr/local/lib/python3.6/dist-packages (from pandas>=0.20.0->plotly_express==0.4.0) (2018.9)\n",
            "Requirement already satisfied: python-dateutil>=2.6.1 in /usr/local/lib/python3.6/dist-packages (from pandas>=0.20.0->plotly_express==0.4.0) (2.8.1)\n",
            "Requirement already satisfied: retrying>=1.3.3 in /usr/local/lib/python3.6/dist-packages (from plotly>=4.0.0->plotly_express==0.4.0) (1.3.3)\n",
            "Installing collected packages: plotly-express\n",
            "Successfully installed plotly-express-0.4.0\n"
          ],
          "name": "stdout"
        }
      ]
    },
    {
      "cell_type": "code",
      "metadata": {
        "id": "-J7rM5qqJxwq",
        "colab_type": "code",
        "colab": {}
      },
      "source": [
        "import os\n",
        "import pandas as pd\n",
        "import numpy as np\n",
        "import plotly_express as px\n",
        "import plotly.graph_objects as go\n",
        "from plotly.subplots import make_subplots\n",
        "import matplotlib.pyplot as plt\n",
        "import seaborn as sns\n",
        "import gc\n",
        "import warnings\n",
        "warnings.filterwarnings('ignore')\n",
        "\n",
        "import joblib\n",
        "import pickle\n",
        "from statsmodels.tsa.stattools import adfuller\n",
        "from matplotlib import pyplot\n",
        "from math import sqrt\n",
        "\n",
        "from sklearn.preprocessing import MinMaxScaler\n",
        "from sklearn.linear_model import LinearRegression\n",
        "from sklearn.metrics import mean_squared_error, mean_absolute_error, r2_score\n",
        "from sklearn.ensemble import RandomForestRegressor\n",
        "from xgboost.sklearn import XGBRegressor\n",
        "from lightgbm import LGBMRegressor\n",
        "from sklearn.ensemble import GradientBoostingRegressor\n",
        "\n",
        "import keras\n",
        "from keras.models import Sequential\n",
        "from keras.layers import Dense\n",
        "from keras.layers import LSTM\n",
        "from keras.layers import Dropout\n",
        "\n",
        "import statsmodels.api as sm\n",
        "import statsmodels.tsa.api as smt"
      ],
      "execution_count": null,
      "outputs": []
    },
    {
      "cell_type": "markdown",
      "metadata": {
        "id": "Xx9ksgdFLu-N",
        "colab_type": "text"
      },
      "source": [
        "1. Data Import"
      ]
    },
    {
      "cell_type": "code",
      "metadata": {
        "id": "yOKDEzvILpEw",
        "colab_type": "code",
        "colab": {}
      },
      "source": [
        "sales = pd.read_csv('/content/drive/My Drive/sales_train_validation.csv')\n",
        "sales.name = 'sales'\n",
        "calendar = pd.read_csv('/content/drive/My Drive/calendar.csv')\n",
        "calendar.name = 'calendar'\n",
        "prices = pd.read_csv('/content/drive/My Drive/sell_prices.csv')\n",
        "prices.name = 'prices'"
      ],
      "execution_count": null,
      "outputs": []
    },
    {
      "cell_type": "markdown",
      "metadata": {
        "id": "ICOlv5tNM2vB",
        "colab_type": "text"
      },
      "source": [
        "Since, the validation data is now available for the days 1914-1941, Adding zero sales for days: d_1942 - d_1969(Test)"
      ]
    },
    {
      "cell_type": "code",
      "metadata": {
        "id": "U0SOgCQcMcR2",
        "colab_type": "code",
        "colab": {}
      },
      "source": [
        "for d in range(1942,1970):\n",
        "    col = 'd_' + str(d)\n",
        "    sales[col] = 0\n",
        "    sales[col] = sales[col].astype(np.int16)"
      ],
      "execution_count": null,
      "outputs": []
    },
    {
      "cell_type": "markdown",
      "metadata": {
        "id": "Q33PS8eMOKWp",
        "colab_type": "text"
      },
      "source": [
        "2. Downcasting"
      ]
    },
    {
      "cell_type": "code",
      "metadata": {
        "id": "JxgvbhVkN0_Q",
        "colab_type": "code",
        "colab": {}
      },
      "source": [
        "def downcast(df):\n",
        "    cols = df.dtypes.index.tolist()\n",
        "    types = df.dtypes.values.tolist()\n",
        "    for i,t in enumerate(types):\n",
        "        if 'int' in str(t):\n",
        "            if df[cols[i]].min() > np.iinfo(np.int8).min and df[cols[i]].max() < np.iinfo(np.int8).max:\n",
        "                df[cols[i]] = df[cols[i]].astype(np.int8)\n",
        "            elif df[cols[i]].min() > np.iinfo(np.int16).min and df[cols[i]].max() < np.iinfo(np.int16).max:\n",
        "                df[cols[i]] = df[cols[i]].astype(np.int16)\n",
        "            elif df[cols[i]].min() > np.iinfo(np.int32).min and df[cols[i]].max() < np.iinfo(np.int32).max:\n",
        "                df[cols[i]] = df[cols[i]].astype(np.int32)\n",
        "            else:\n",
        "                df[cols[i]] = df[cols[i]].astype(np.int64)\n",
        "        elif 'float' in str(t):\n",
        "            if df[cols[i]].min() > np.finfo(np.float16).min and df[cols[i]].max() < np.finfo(np.float16).max:\n",
        "                df[cols[i]] = df[cols[i]].astype(np.float16)\n",
        "            elif df[cols[i]].min() > np.finfo(np.float32).min and df[cols[i]].max() < np.finfo(np.float32).max:\n",
        "                df[cols[i]] = df[cols[i]].astype(np.float32)\n",
        "            else:\n",
        "                df[cols[i]] = df[cols[i]].astype(np.float64)\n",
        "        elif t == np.object:\n",
        "            if cols[i] == 'date':\n",
        "                df[cols[i]] = pd.to_datetime(df[cols[i]], format='%Y-%m-%d')\n",
        "            else:\n",
        "                df[cols[i]] = df[cols[i]].astype('category')\n",
        "    return df  \n",
        "\n",
        "sales = downcast(sales)\n",
        "prices = downcast(prices)\n",
        "calendar = downcast(calendar)"
      ],
      "execution_count": null,
      "outputs": []
    },
    {
      "cell_type": "markdown",
      "metadata": {
        "id": "anggp1cfONax",
        "colab_type": "text"
      },
      "source": [
        "3. Melting and merging Data\n",
        "\n",
        "Combine price data from prices dataframe and days data from calendar dataset."
      ]
    },
    {
      "cell_type": "code",
      "metadata": {
        "id": "JCm79GX6OSpb",
        "colab_type": "code",
        "colab": {}
      },
      "source": [
        "df = pd.melt(sales, id_vars=['id', 'item_id', 'dept_id', 'cat_id', 'store_id', 'state_id'], var_name='d', value_name='sold').dropna()"
      ],
      "execution_count": null,
      "outputs": []
    },
    {
      "cell_type": "code",
      "metadata": {
        "id": "RTUz34e-OlRb",
        "colab_type": "code",
        "colab": {}
      },
      "source": [
        "df = pd.merge(df, calendar, on='d', how='left')\n",
        "df = pd.merge(df, prices, on=['store_id','item_id','wm_yr_wk'], how='left')"
      ],
      "execution_count": null,
      "outputs": []
    },
    {
      "cell_type": "markdown",
      "metadata": {
        "id": "-UI-8RC7Pa6P",
        "colab_type": "text"
      },
      "source": [
        "Removing sales data for which price is not available. This will reduce size of the data"
      ]
    },
    {
      "cell_type": "code",
      "metadata": {
        "id": "MKeBjLGUPcde",
        "colab_type": "code",
        "colab": {}
      },
      "source": [
        "df = df[df['sell_price'].notna()]"
      ],
      "execution_count": null,
      "outputs": []
    },
    {
      "cell_type": "code",
      "metadata": {
        "id": "CI_HAm0MPk5z",
        "colab_type": "code",
        "colab": {}
      },
      "source": [
        "df= df.reset_index(drop= True)\n",
        "\n",
        "df = downcast(df)"
      ],
      "execution_count": null,
      "outputs": []
    },
    {
      "cell_type": "markdown",
      "metadata": {
        "id": "miMe01h8QG0m",
        "colab_type": "text"
      },
      "source": [
        "4. Identify Important Features"
      ]
    },
    {
      "cell_type": "markdown",
      "metadata": {
        "id": "ZYNKfgnKPzto",
        "colab_type": "text"
      },
      "source": [
        "Run gradient booster models to identify important feature that are contributing to sales. We will remove least important feature for further study."
      ]
    },
    {
      "cell_type": "code",
      "metadata": {
        "id": "lu2k1YdOP0Zb",
        "colab_type": "code",
        "colab": {}
      },
      "source": [
        "df_1 = df.copy()"
      ],
      "execution_count": null,
      "outputs": []
    },
    {
      "cell_type": "markdown",
      "metadata": {
        "id": "QtdW1NjSP9cM",
        "colab_type": "text"
      },
      "source": [
        "Lable encoding categprical values to so that regressor models can be tried to identify imortant features."
      ]
    },
    {
      "cell_type": "code",
      "metadata": {
        "id": "x8EaKeLNP-5F",
        "colab_type": "code",
        "colab": {}
      },
      "source": [
        "from sklearn.preprocessing import LabelEncoder\n",
        "\n",
        "lb_make = LabelEncoder()\n",
        "df_1['item_id'] = lb_make.fit_transform(df_1['item_id'])\n",
        "df_1['dept_id'] = lb_make.fit_transform(df_1['dept_id'])\n",
        "df_1['cat_id'] = lb_make.fit_transform(df_1['cat_id'])\n",
        "df_1['store_id'] = lb_make.fit_transform(df_1['store_id'])\n",
        "df_1['state_id'] = lb_make.fit_transform(df_1['state_id'])\n",
        "df_1['d'] = lb_make.fit_transform(df_1['d'])\n",
        "df_1['weekday'] = lb_make.fit_transform(df_1['weekday'])"
      ],
      "execution_count": null,
      "outputs": []
    },
    {
      "cell_type": "code",
      "metadata": {
        "id": "SuSSWHsfQVRx",
        "colab_type": "code",
        "colab": {}
      },
      "source": [
        "df_1= df_1.reset_index(drop= True)\n",
        "df_1 = downcast(df_1)"
      ],
      "execution_count": null,
      "outputs": []
    },
    {
      "cell_type": "markdown",
      "metadata": {
        "id": "qfkslmgpQp1I",
        "colab_type": "text"
      },
      "source": [
        "Data is split into training and testing set with Sales as a dependent variable."
      ]
    },
    {
      "cell_type": "code",
      "metadata": {
        "id": "JWr7NTzUQo29",
        "colab_type": "code",
        "colab": {}
      },
      "source": [
        "X = df_1[['item_id', 'dept_id', 'store_id', 'state_id', 'd', 'weekday','month', 'snap_CA', 'snap_TX', 'snap_WI', 'sell_price']]\n",
        "Y = df_1[['sold']]\n",
        "from sklearn.model_selection import ShuffleSplit, train_test_split\n",
        "X_train, X_test, y_train, y_test = train_test_split(X, Y, test_size=0.25, random_state=0)\n",
        "X_train = X_train.to_numpy()\n",
        "y_train = y_train.to_numpy()"
      ],
      "execution_count": null,
      "outputs": []
    },
    {
      "cell_type": "markdown",
      "metadata": {
        "id": "3NNoVEMJaaXf",
        "colab_type": "text"
      },
      "source": [
        "A. Light Gradient Boosting Regressor\n",
        "\n",
        "To find out important features for final model creation."
      ]
    },
    {
      "cell_type": "code",
      "metadata": {
        "id": "iCHkA4qSaZB1",
        "colab_type": "code",
        "colab": {}
      },
      "source": [
        "lgbmr = LGBMRegressor(\n",
        "        n_estimators=1000,\n",
        "        learning_rate=0.3,\n",
        "        subsample=0.8,\n",
        "        colsample_bytree=0.8,\n",
        "        max_depth=8,\n",
        "        num_leaves=50,\n",
        "        min_child_weight=300)"
      ],
      "execution_count": null,
      "outputs": []
    },
    {
      "cell_type": "code",
      "metadata": {
        "id": "aLi4RRVTaqyK",
        "colab_type": "code",
        "colab": {
          "base_uri": "https://localhost:8080/",
          "height": 118
        },
        "outputId": "87429d74-843b-4e0c-a51c-d2a872087df9"
      },
      "source": [
        "lgbmr.fit(X_train, y_train) "
      ],
      "execution_count": null,
      "outputs": [
        {
          "output_type": "execute_result",
          "data": {
            "text/plain": [
              "LGBMRegressor(boosting_type='gbdt', class_weight=None, colsample_bytree=0.8,\n",
              "              importance_type='split', learning_rate=0.3, max_depth=8,\n",
              "              min_child_samples=20, min_child_weight=300, min_split_gain=0.0,\n",
              "              n_estimators=1000, n_jobs=-1, num_leaves=50, objective=None,\n",
              "              random_state=None, reg_alpha=0.0, reg_lambda=0.0, silent=True,\n",
              "              subsample=0.8, subsample_for_bin=200000, subsample_freq=0)"
            ]
          },
          "metadata": {
            "tags": []
          },
          "execution_count": 17
        }
      ]
    },
    {
      "cell_type": "markdown",
      "metadata": {
        "id": "SJMS-QXEV-SI",
        "colab_type": "text"
      },
      "source": [
        "Feature importance"
      ]
    },
    {
      "cell_type": "code",
      "metadata": {
        "id": "ezZ7m-t6WA-p",
        "colab_type": "code",
        "colab": {
          "base_uri": "https://localhost:8080/",
          "height": 265
        },
        "outputId": "a8d1c3bf-6748-46d6-f9f4-91f4e1c1a4eb"
      },
      "source": [
        "pyplot.bar(range(len(lgbmr.feature_importances_)), lgbmr.feature_importances_)\n",
        "pyplot.show()"
      ],
      "execution_count": null,
      "outputs": [
        {
          "output_type": "display_data",
          "data": {
            "image/png": "[encoded data removed]",
            "text/plain": [
              "<Figure size 432x288 with 1 Axes>"
            ]
          },
          "metadata": {
            "tags": [],
            "needs_background": "light"
          }
        }
      ]
    },
    {
      "cell_type": "markdown",
      "metadata": {
        "id": "Hah6R3CZXHY5",
        "colab_type": "text"
      },
      "source": [
        "From plot it is evident that along with type of item and sales price, store number and day of the week contribute to the sales. Hence we will use only these features to create models further."
      ]
    },
    {
      "cell_type": "code",
      "metadata": {
        "id": "LLhK9QKybcDT",
        "colab_type": "code",
        "colab": {
          "base_uri": "https://localhost:8080/",
          "height": 34
        },
        "outputId": "ec5b5bb0-db30-41db-be2b-829978915548"
      },
      "source": [
        "X = df_1[['item_id','store_id', 'd', 'weekday', 'sell_price']]\n",
        "Y = df_1[['sold']]\n",
        "from sklearn.model_selection import ShuffleSplit, train_test_split\n",
        "X_train, X_test, y_train, y_test = train_test_split(X, Y, test_size=0.25, random_state=0)\n",
        "X_train = X_train.to_numpy()\n",
        "X_test = X_test.to_numpy()\n",
        "y_train = y_train.to_numpy()\n",
        "y_test = y_test.to_numpy()\n",
        "print(X_train.shape, X_test.shape)"
      ],
      "execution_count": null,
      "outputs": [
        {
          "output_type": "stream",
          "text": [
            "(35161257, 5) (11720420, 5)\n"
          ],
          "name": "stdout"
        }
      ]
    },
    {
      "cell_type": "markdown",
      "metadata": {
        "id": "tDtD27cXcHg3",
        "colab_type": "text"
      },
      "source": [
        "5. Training Models"
      ]
    },
    {
      "cell_type": "code",
      "metadata": {
        "id": "plxn5koBcGRK",
        "colab_type": "code",
        "colab": {
          "base_uri": "https://localhost:8080/",
          "height": 118
        },
        "outputId": "8089fe24-6305-4383-d2c0-aaf58f933454"
      },
      "source": [
        "lgbmr.fit(X_train, y_train) "
      ],
      "execution_count": null,
      "outputs": [
        {
          "output_type": "execute_result",
          "data": {
            "text/plain": [
              "LGBMRegressor(boosting_type='gbdt', class_weight=None, colsample_bytree=0.8,\n",
              "              importance_type='split', learning_rate=0.3, max_depth=8,\n",
              "              min_child_samples=20, min_child_weight=300, min_split_gain=0.0,\n",
              "              n_estimators=1000, n_jobs=-1, num_leaves=50, objective=None,\n",
              "              random_state=None, reg_alpha=0.0, reg_lambda=0.0, silent=True,\n",
              "              subsample=0.8, subsample_for_bin=200000, subsample_freq=0)"
            ]
          },
          "metadata": {
            "tags": []
          },
          "execution_count": 21
        }
      ]
    },
    {
      "cell_type": "code",
      "metadata": {
        "id": "oc08RObwa4J8",
        "colab_type": "code",
        "colab": {}
      },
      "source": [
        "y_pred=lgbmr.predict(X_test)"
      ],
      "execution_count": null,
      "outputs": []
    },
    {
      "cell_type": "code",
      "metadata": {
        "id": "xcUnP3hoa7mF",
        "colab_type": "code",
        "colab": {
          "base_uri": "https://localhost:8080/",
          "height": 101
        },
        "outputId": "c1f9cd20-a9e4-40d6-aa2c-b1446a9c47e0"
      },
      "source": [
        "print(\"R-squared for Train: %.2f\" %lgbmr.score(X_train, y_train))\n",
        "print(\"R-squared for Test: %.2f\" %lgbmr.score(X_test, y_test))\n",
        "print(lgbmr.score(X_train, y_train))\n",
        "\n",
        "mse = mean_squared_error(y_test, y_pred)\n",
        "print(\"The mean squared error (MSE) on test set: {:.4f}\".format(mse))\n",
        "rmse = sqrt(mean_squared_error(y_test, y_pred))\n",
        "print(\"The root mean squared error (RMSE) on test set: {:.4f}\".format(rmse))"
      ],
      "execution_count": null,
      "outputs": [
        {
          "output_type": "stream",
          "text": [
            "R-squared for Train: 0.51\n",
            "R-squared for Test: 0.50\n",
            "0.5091164180627059\n",
            "The mean squared error (MSE) on test set: 9.0051\n",
            "The root mean squared error (RMSE) on test set: 3.0009\n"
          ],
          "name": "stdout"
        }
      ]
    },
    {
      "cell_type": "markdown",
      "metadata": {
        "id": "6id1344LVtb_",
        "colab_type": "text"
      },
      "source": [
        "B. Gradient Boosting Regressor Model"
      ]
    },
    {
      "cell_type": "code",
      "metadata": {
        "id": "YyYf1VHpVq1R",
        "colab_type": "code",
        "colab": {
          "base_uri": "https://localhost:8080/",
          "height": 168
        },
        "outputId": "4c8c1102-4a20-4225-bb3f-c9ebc50e26e8"
      },
      "source": [
        "gbrt=GradientBoostingRegressor(n_estimators=100, subsample = 0.8, learning_rate = 0.05) \n",
        "gbrt.fit(X_train, y_train) "
      ],
      "execution_count": null,
      "outputs": [
        {
          "output_type": "execute_result",
          "data": {
            "text/plain": [
              "GradientBoostingRegressor(alpha=0.9, ccp_alpha=0.0, criterion='friedman_mse',\n",
              "                          init=None, learning_rate=0.1, loss='ls', max_depth=3,\n",
              "                          max_features=None, max_leaf_nodes=None,\n",
              "                          min_impurity_decrease=0.0, min_impurity_split=None,\n",
              "                          min_samples_leaf=1, min_samples_split=2,\n",
              "                          min_weight_fraction_leaf=0.0, n_estimators=100,\n",
              "                          n_iter_no_change=None, presort='deprecated',\n",
              "                          random_state=None, subsample=1.0, tol=0.0001,\n",
              "                          validation_fraction=0.1, verbose=0, warm_start=False)"
            ]
          },
          "metadata": {
            "tags": []
          },
          "execution_count": 25
        }
      ]
    },
    {
      "cell_type": "code",
      "metadata": {
        "id": "vKmN-oAoWtIK",
        "colab_type": "code",
        "colab": {}
      },
      "source": [
        "y_pred=gbrt.predict(X_test)"
      ],
      "execution_count": null,
      "outputs": []
    },
    {
      "cell_type": "code",
      "metadata": {
        "id": "WNtaiynQWwyr",
        "colab_type": "code",
        "colab": {
          "base_uri": "https://localhost:8080/",
          "height": 101
        },
        "outputId": "955473df-2cef-42c2-e196-1561918d28aa"
      },
      "source": [
        "print(\"R-squared for Train: %.2f\" %gbrt.score(X_train, y_train))\n",
        "print(\"R-squared for Test: %.2f\" %gbrt.score(X_test, y_test))\n",
        "print(gbrt.score(X_train, y_train))\n",
        "\n",
        "mse = mean_squared_error(y_test, y_pred)\n",
        "print(\"The mean squared error (MSE) on test set: {:.4f}\".format(mse))\n",
        "rmse = sqrt(mean_squared_error(y_test, y_pred))\n",
        "print(\"The root mean squared error (RMSE) on test set: {:.4f}\".format(rmse))"
      ],
      "execution_count": null,
      "outputs": [
        {
          "output_type": "stream",
          "text": [
            "R-squared for Train: 0.20\n",
            "R-squared for Test: 0.20\n",
            "0.19909977802235246\n",
            "The mean squared error (MSE) on test set: 14.5662\n",
            "The root mean squared error (RMSE) on test set: 3.8166\n"
          ],
          "name": "stdout"
        }
      ]
    },
    {
      "cell_type": "markdown",
      "metadata": {
        "id": "-KpvD6qAlqlI",
        "colab_type": "text"
      },
      "source": [
        "C. LSTM Model"
      ]
    },
    {
      "cell_type": "markdown",
      "metadata": {
        "id": "pm3eDOL6l35b",
        "colab_type": "text"
      },
      "source": [
        "Normalizing the input data"
      ]
    },
    {
      "cell_type": "code",
      "metadata": {
        "id": "rgwFxHjvltUG",
        "colab_type": "code",
        "colab": {}
      },
      "source": [
        "scaler = MinMaxScaler(feature_range = (0, 1))\n",
        "\n",
        "X_train = scaler.fit_transform(X_train)\n",
        "\n",
        "y_train = scaler.fit_transform(y_train)\n",
        "\n",
        "X_test = scaler.fit_transform(X_test)\n",
        "\n",
        "y_test = scaler.fit_transform(y_test)"
      ],
      "execution_count": null,
      "outputs": []
    },
    {
      "cell_type": "markdown",
      "metadata": {
        "id": "0OgPDIQ7mBEW",
        "colab_type": "text"
      },
      "source": [
        "Reshaping data"
      ]
    },
    {
      "cell_type": "code",
      "metadata": {
        "id": "Oru0BBIvmDMt",
        "colab_type": "code",
        "colab": {}
      },
      "source": [
        "X_train = np.reshape(X_train, (X_train.shape[0], X_train.shape[1], 1))"
      ],
      "execution_count": null,
      "outputs": []
    },
    {
      "cell_type": "markdown",
      "metadata": {
        "id": "WWCPTJ_RmRjT",
        "colab_type": "text"
      },
      "source": [
        "Building LSTM model function"
      ]
    },
    {
      "cell_type": "code",
      "metadata": {
        "id": "-byLIzxamGb8",
        "colab_type": "code",
        "colab": {}
      },
      "source": [
        "lstm = keras.Sequential()\n",
        "lstm.add(keras.layers.LSTM(\n",
        "  units=50,\n",
        "  input_shape=(X_train.shape[1], X_train.shape[2])\n",
        "))\n",
        "lstm.add(keras.layers.Dense(units=1))\n",
        "lstm.compile(\n",
        "  loss='mean_squared_error',\n",
        "  optimizer=keras.optimizers.Adam(0.001)\n",
        ")"
      ],
      "execution_count": null,
      "outputs": []
    },
    {
      "cell_type": "markdown",
      "metadata": {
        "id": "9vUAYPo8mb77",
        "colab_type": "text"
      },
      "source": [
        "LSTM model fit with 2 iterations."
      ]
    },
    {
      "cell_type": "code",
      "metadata": {
        "id": "PoNLpVwxmYsC",
        "colab_type": "code",
        "colab": {
          "base_uri": "https://localhost:8080/",
          "height": 101
        },
        "outputId": "c5971d19-ae95-419d-d480-7fc0ef379bf2"
      },
      "source": [
        "lstm.fit(X_train, y_train, epochs = 2, batch_size = 150000)"
      ],
      "execution_count": null,
      "outputs": [
        {
          "output_type": "stream",
          "text": [
            "Epoch 1/2\n",
            "35161257/35161257 [==============================] - 180s 5us/step - loss: 5.8061e-05\n",
            "Epoch 2/2\n",
            "35161257/35161257 [==============================] - 176s 5us/step - loss: 3.0813e-05\n"
          ],
          "name": "stdout"
        },
        {
          "output_type": "execute_result",
          "data": {
            "text/plain": [
              "<keras.callbacks.callbacks.History at 0x7f36bbde4048>"
            ]
          },
          "metadata": {
            "tags": []
          },
          "execution_count": 31
        }
      ]
    },
    {
      "cell_type": "markdown",
      "metadata": {
        "id": "RW9tNG6amrq7",
        "colab_type": "text"
      },
      "source": [
        "Predictions made using LSTM model"
      ]
    },
    {
      "cell_type": "code",
      "metadata": {
        "id": "t-gI1tp0mq7u",
        "colab_type": "code",
        "colab": {}
      },
      "source": [
        "X_test = np.reshape(X_test, (X_test.shape[0], X_test.shape[1], 1))\n",
        "\n",
        "y_pred = lstm.predict(X_test)"
      ],
      "execution_count": null,
      "outputs": []
    },
    {
      "cell_type": "markdown",
      "metadata": {
        "id": "qcptyAU4m4cS",
        "colab_type": "text"
      },
      "source": [
        "Denormalising data so that actual values can be compared"
      ]
    },
    {
      "cell_type": "code",
      "metadata": {
        "id": "tOnwnb85m86z",
        "colab_type": "code",
        "colab": {}
      },
      "source": [
        "y_pred = scaler.inverse_transform(y_pred)\n",
        "y_test = scaler.inverse_transform(y_test)"
      ],
      "execution_count": null,
      "outputs": []
    },
    {
      "cell_type": "markdown",
      "metadata": {
        "id": "1XU5XQe7nKv3",
        "colab_type": "text"
      },
      "source": [
        "RMSE calculation"
      ]
    },
    {
      "cell_type": "code",
      "metadata": {
        "id": "xYO0sL7anJiV",
        "colab_type": "code",
        "colab": {
          "base_uri": "https://localhost:8080/",
          "height": 50
        },
        "outputId": "29b204d1-4783-422a-adad-fe363c66fcf6"
      },
      "source": [
        "mse = mean_squared_error(y_test, y_pred)\n",
        "print(\"The mean squared error (MSE) on test set: {:.4f}\".format(mse))\n",
        "rmse = sqrt(mean_squared_error(y_test, y_pred))\n",
        "print(\"The root mean squared error (RMSE) on test set: {:.4f}\".format(rmse))"
      ],
      "execution_count": null,
      "outputs": [
        {
          "output_type": "stream",
          "text": [
            "The mean squared error (MSE) on test set: 17.9102\n",
            "The root mean squared error (RMSE) on test set: 4.2320\n"
          ],
          "name": "stdout"
        }
      ]
    },
    {
      "cell_type": "markdown",
      "metadata": {
        "id": "gb1y4f7F-EhH",
        "colab_type": "text"
      },
      "source": [
        "6. Predictions"
      ]
    },
    {
      "cell_type": "markdown",
      "metadata": {
        "id": "GxtntMXdnRW_",
        "colab_type": "text"
      },
      "source": [
        "Required prediction for future sales are made using all 3 models and submitted to kaggle in csv format. As per kaggle score predictions made using Gradient Boosting Regressor produced better kaggle score.\n",
        "\n",
        "Prediction method adopted is explained below. It uses Gradient Boosting model for predictions\n",
        "\n",
        "We are taking last 28 days data for which sales data not available and making predictions."
      ]
    },
    {
      "cell_type": "code",
      "metadata": {
        "id": "aJjphi2Pnhen",
        "colab_type": "code",
        "colab": {}
      },
      "source": [
        "sales_pred = pd.read_csv('/content/drive/My Drive/sample_submission.csv')\n",
        "sales_pred.name = 'sales_pred'"
      ],
      "execution_count": null,
      "outputs": []
    },
    {
      "cell_type": "code",
      "metadata": {
        "id": "gJMLpUi8Cu7v",
        "colab_type": "code",
        "colab": {}
      },
      "source": [
        "df_pred = pd.melt(sales_pred, id_vars=['id'], var_name='d', value_name='sold').dropna()"
      ],
      "execution_count": null,
      "outputs": []
    },
    {
      "cell_type": "code",
      "metadata": {
        "id": "Md8oVub_C5L9",
        "colab_type": "code",
        "colab": {}
      },
      "source": [
        "calendar2=calendar.tail(28)\n",
        "df_pred_new = pd.merge(df_pred, calendar2, on='d', how='inner')"
      ],
      "execution_count": null,
      "outputs": []
    },
    {
      "cell_type": "code",
      "metadata": {
        "id": "GKGdV2mTDI8S",
        "colab_type": "code",
        "colab": {}
      },
      "source": [
        "# new data frame with split value columns \n",
        "alpha = df_pred_new[\"id\"].str.rsplit(pat = \"_\", n = 3, expand = True) \n",
        "  \n",
        "# making separate first name column from new data frame \n",
        "df_pred_new[\"item_id\"]= alpha[0] \n",
        "beta2 = alpha[1]\n",
        "beta3=alpha[2]\n",
        "df_pred_new[\"store_id\"] = alpha[1] + \"_\" + alpha[2]"
      ],
      "execution_count": null,
      "outputs": []
    },
    {
      "cell_type": "code",
      "metadata": {
        "id": "1Ehgb5siFG7b",
        "colab_type": "code",
        "colab": {}
      },
      "source": [
        "df_pred_new = pd.merge(df_pred_new, prices, on=['store_id','item_id','wm_yr_wk'], how='left') "
      ],
      "execution_count": null,
      "outputs": []
    },
    {
      "cell_type": "code",
      "metadata": {
        "id": "PSad8PRzFOcs",
        "colab_type": "code",
        "colab": {
          "base_uri": "https://localhost:8080/",
          "height": 299
        },
        "outputId": "6a49d84f-dd6c-430a-978d-839d902fda6a"
      },
      "source": [
        "lb_make = LabelEncoder()\n",
        "df_pred_new['item_id'] = lb_make.fit_transform(df_pred_new['item_id'])\n",
        "df_pred_new['store_id'] = lb_make.fit_transform(df_pred_new['store_id'])\n",
        "df_pred_new['d'] = lb_make.fit_transform(df_pred_new['d'])\n",
        "df_pred_new['weekday'] = lb_make.fit_transform(df_pred_new['weekday'])\n",
        "\n",
        "df_pred_new.head()"
      ],
      "execution_count": null,
      "outputs": [
        {
          "output_type": "execute_result",
          "data": {
            "text/html": [
              "<div>\n",
              "<style scoped>\n",
              "    .dataframe tbody tr th:only-of-type {\n",
              "        vertical-align: middle;\n",
              "    }\n",
              "\n",
              "    .dataframe tbody tr th {\n",
              "        vertical-align: top;\n",
              "    }\n",
              "\n",
              "    .dataframe thead th {\n",
              "        text-align: right;\n",
              "    }\n",
              "</style>\n",
              "<table border=\"1\" class=\"dataframe\">\n",
              "  <thead>\n",
              "    <tr style=\"text-align: right;\">\n",
              "      <th></th>\n",
              "      <th>id</th>\n",
              "      <th>d</th>\n",
              "      <th>sold</th>\n",
              "      <th>date</th>\n",
              "      <th>wm_yr_wk</th>\n",
              "      <th>weekday</th>\n",
              "      <th>wday</th>\n",
              "      <th>month</th>\n",
              "      <th>year</th>\n",
              "      <th>event_name_1</th>\n",
              "      <th>event_type_1</th>\n",
              "      <th>event_name_2</th>\n",
              "      <th>event_type_2</th>\n",
              "      <th>snap_CA</th>\n",
              "      <th>snap_TX</th>\n",
              "      <th>snap_WI</th>\n",
              "      <th>item_id</th>\n",
              "      <th>store_id</th>\n",
              "      <th>sell_price</th>\n",
              "    </tr>\n",
              "  </thead>\n",
              "  <tbody>\n",
              "    <tr>\n",
              "      <th>0</th>\n",
              "      <td>HOBBIES_1_001_CA_1_validation</td>\n",
              "      <td>0</td>\n",
              "      <td>0</td>\n",
              "      <td>2016-05-23</td>\n",
              "      <td>11617</td>\n",
              "      <td>1</td>\n",
              "      <td>3</td>\n",
              "      <td>5</td>\n",
              "      <td>2016</td>\n",
              "      <td>NaN</td>\n",
              "      <td>NaN</td>\n",
              "      <td>NaN</td>\n",
              "      <td>NaN</td>\n",
              "      <td>0</td>\n",
              "      <td>0</td>\n",
              "      <td>0</td>\n",
              "      <td>1437</td>\n",
              "      <td>0</td>\n",
              "      <td>8.382812</td>\n",
              "    </tr>\n",
              "    <tr>\n",
              "      <th>1</th>\n",
              "      <td>HOBBIES_1_002_CA_1_validation</td>\n",
              "      <td>0</td>\n",
              "      <td>0</td>\n",
              "      <td>2016-05-23</td>\n",
              "      <td>11617</td>\n",
              "      <td>1</td>\n",
              "      <td>3</td>\n",
              "      <td>5</td>\n",
              "      <td>2016</td>\n",
              "      <td>NaN</td>\n",
              "      <td>NaN</td>\n",
              "      <td>NaN</td>\n",
              "      <td>NaN</td>\n",
              "      <td>0</td>\n",
              "      <td>0</td>\n",
              "      <td>0</td>\n",
              "      <td>1438</td>\n",
              "      <td>0</td>\n",
              "      <td>3.970703</td>\n",
              "    </tr>\n",
              "    <tr>\n",
              "      <th>2</th>\n",
              "      <td>HOBBIES_1_003_CA_1_validation</td>\n",
              "      <td>0</td>\n",
              "      <td>0</td>\n",
              "      <td>2016-05-23</td>\n",
              "      <td>11617</td>\n",
              "      <td>1</td>\n",
              "      <td>3</td>\n",
              "      <td>5</td>\n",
              "      <td>2016</td>\n",
              "      <td>NaN</td>\n",
              "      <td>NaN</td>\n",
              "      <td>NaN</td>\n",
              "      <td>NaN</td>\n",
              "      <td>0</td>\n",
              "      <td>0</td>\n",
              "      <td>0</td>\n",
              "      <td>1439</td>\n",
              "      <td>0</td>\n",
              "      <td>2.970703</td>\n",
              "    </tr>\n",
              "    <tr>\n",
              "      <th>3</th>\n",
              "      <td>HOBBIES_1_004_CA_1_validation</td>\n",
              "      <td>0</td>\n",
              "      <td>0</td>\n",
              "      <td>2016-05-23</td>\n",
              "      <td>11617</td>\n",
              "      <td>1</td>\n",
              "      <td>3</td>\n",
              "      <td>5</td>\n",
              "      <td>2016</td>\n",
              "      <td>NaN</td>\n",
              "      <td>NaN</td>\n",
              "      <td>NaN</td>\n",
              "      <td>NaN</td>\n",
              "      <td>0</td>\n",
              "      <td>0</td>\n",
              "      <td>0</td>\n",
              "      <td>1440</td>\n",
              "      <td>0</td>\n",
              "      <td>4.640625</td>\n",
              "    </tr>\n",
              "    <tr>\n",
              "      <th>4</th>\n",
              "      <td>HOBBIES_1_005_CA_1_validation</td>\n",
              "      <td>0</td>\n",
              "      <td>0</td>\n",
              "      <td>2016-05-23</td>\n",
              "      <td>11617</td>\n",
              "      <td>1</td>\n",
              "      <td>3</td>\n",
              "      <td>5</td>\n",
              "      <td>2016</td>\n",
              "      <td>NaN</td>\n",
              "      <td>NaN</td>\n",
              "      <td>NaN</td>\n",
              "      <td>NaN</td>\n",
              "      <td>0</td>\n",
              "      <td>0</td>\n",
              "      <td>0</td>\n",
              "      <td>1441</td>\n",
              "      <td>0</td>\n",
              "      <td>2.880859</td>\n",
              "    </tr>\n",
              "  </tbody>\n",
              "</table>\n",
              "</div>"
            ],
            "text/plain": [
              "                              id  d  sold  ... item_id  store_id  sell_price\n",
              "0  HOBBIES_1_001_CA_1_validation  0     0  ...    1437         0    8.382812\n",
              "1  HOBBIES_1_002_CA_1_validation  0     0  ...    1438         0    3.970703\n",
              "2  HOBBIES_1_003_CA_1_validation  0     0  ...    1439         0    2.970703\n",
              "3  HOBBIES_1_004_CA_1_validation  0     0  ...    1440         0    4.640625\n",
              "4  HOBBIES_1_005_CA_1_validation  0     0  ...    1441         0    2.880859\n",
              "\n",
              "[5 rows x 19 columns]"
            ]
          },
          "metadata": {
            "tags": []
          },
          "execution_count": 40
        }
      ]
    },
    {
      "cell_type": "code",
      "metadata": {
        "id": "HOpHoBFhFSzT",
        "colab_type": "code",
        "colab": {}
      },
      "source": [
        "X_prediction_new = df_pred_new[['item_id','store_id', 'd', 'weekday', 'sell_price']]\n",
        "X_prediction_new = X_prediction_new.to_numpy()"
      ],
      "execution_count": null,
      "outputs": []
    },
    {
      "cell_type": "code",
      "metadata": {
        "id": "hs0-TfXzFm2d",
        "colab_type": "code",
        "colab": {}
      },
      "source": [
        "Final_forecast = gbrt.predict(X_prediction_new)"
      ],
      "execution_count": null,
      "outputs": []
    },
    {
      "cell_type": "code",
      "metadata": {
        "id": "xdSyolGsFtkQ",
        "colab_type": "code",
        "colab": {}
      },
      "source": [
        "Final_forecast = np.clip(Final_forecast, 0, 50)\n",
        "Final_forecast = np.round(Final_forecast)\n",
        "Final_forecast = Final_forecast.tolist()"
      ],
      "execution_count": null,
      "outputs": []
    },
    {
      "cell_type": "code",
      "metadata": {
        "id": "Ao9wuriGF8S9",
        "colab_type": "code",
        "colab": {}
      },
      "source": [
        "df_pred['Final_forecast'] = Final_forecast\n",
        "df_predf=df_pred.pivot(index='id', columns='d', values='Final_forecast')\n",
        "df_predf= df_predf.reset_index(drop= False)"
      ],
      "execution_count": null,
      "outputs": []
    },
    {
      "cell_type": "code",
      "metadata": {
        "id": "R10u7lbDGKKM",
        "colab_type": "code",
        "colab": {}
      },
      "source": [
        "sales_pred1 = sales_pred['id']\n",
        "df_predf = pd.merge(sales_pred1, df_predf, on=['id'], how='inner') "
      ],
      "execution_count": null,
      "outputs": []
    },
    {
      "cell_type": "code",
      "metadata": {
        "id": "5wvENemgGSDq",
        "colab_type": "code",
        "colab": {
          "base_uri": "https://localhost:8080/",
          "height": 402
        },
        "outputId": "41fa82b2-4226-4ed2-996c-4bf88d0812e4"
      },
      "source": [
        "df_predf = df_predf.rename(columns= {'d_1942':'F1', 'd_1943' :'F2', 'd_1944':'F3', 'd_1945':'F4', 'd_1946':'F5', 'd_1947':'F6', 'd_1948':'F7', 'd_1949':'F8', 'd_1950':'F9', 'd_1951':'F10', 'd_1952':'F11', 'd_1953':'F12', 'd_1954':'F13', 'd_1955':'F14', 'd_1956':'F15', 'd_1957':'F16', 'd_1958':'F17', 'd_1959':'F18', 'd_1960':'F19', 'd_1961':'F20', 'd_1962':'F21', 'd_1963':'F22', 'd_1964':'F23', 'd_1965':'F24', 'd_1966':'F25', 'd_1967':'F26', 'd_1968':'F27', 'd_1969':'F28'})\n",
        "df_predf "
      ],
      "execution_count": null,
      "outputs": [
        {
          "output_type": "execute_result",
          "data": {
            "text/html": [
              "<div>\n",
              "<style scoped>\n",
              "    .dataframe tbody tr th:only-of-type {\n",
              "        vertical-align: middle;\n",
              "    }\n",
              "\n",
              "    .dataframe tbody tr th {\n",
              "        vertical-align: top;\n",
              "    }\n",
              "\n",
              "    .dataframe thead th {\n",
              "        text-align: right;\n",
              "    }\n",
              "</style>\n",
              "<table border=\"1\" class=\"dataframe\">\n",
              "  <thead>\n",
              "    <tr style=\"text-align: right;\">\n",
              "      <th></th>\n",
              "      <th>id</th>\n",
              "      <th>F1</th>\n",
              "      <th>F2</th>\n",
              "      <th>F3</th>\n",
              "      <th>F4</th>\n",
              "      <th>F5</th>\n",
              "      <th>F6</th>\n",
              "      <th>F7</th>\n",
              "      <th>F8</th>\n",
              "      <th>F9</th>\n",
              "      <th>F10</th>\n",
              "      <th>F11</th>\n",
              "      <th>F12</th>\n",
              "      <th>F13</th>\n",
              "      <th>F14</th>\n",
              "      <th>F15</th>\n",
              "      <th>F16</th>\n",
              "      <th>F17</th>\n",
              "      <th>F18</th>\n",
              "      <th>F19</th>\n",
              "      <th>F20</th>\n",
              "      <th>F21</th>\n",
              "      <th>F22</th>\n",
              "      <th>F23</th>\n",
              "      <th>F24</th>\n",
              "      <th>F25</th>\n",
              "      <th>F26</th>\n",
              "      <th>F27</th>\n",
              "      <th>F28</th>\n",
              "    </tr>\n",
              "  </thead>\n",
              "  <tbody>\n",
              "    <tr>\n",
              "      <th>0</th>\n",
              "      <td>HOBBIES_1_001_CA_1_validation</td>\n",
              "      <td>0.0</td>\n",
              "      <td>0.0</td>\n",
              "      <td>0.0</td>\n",
              "      <td>0.0</td>\n",
              "      <td>0.0</td>\n",
              "      <td>1.0</td>\n",
              "      <td>1.0</td>\n",
              "      <td>0.0</td>\n",
              "      <td>0.0</td>\n",
              "      <td>0.0</td>\n",
              "      <td>0.0</td>\n",
              "      <td>0.0</td>\n",
              "      <td>1.0</td>\n",
              "      <td>1.0</td>\n",
              "      <td>0.0</td>\n",
              "      <td>0.0</td>\n",
              "      <td>0.0</td>\n",
              "      <td>0.0</td>\n",
              "      <td>0.0</td>\n",
              "      <td>1.0</td>\n",
              "      <td>1.0</td>\n",
              "      <td>0.0</td>\n",
              "      <td>0.0</td>\n",
              "      <td>0.0</td>\n",
              "      <td>0.0</td>\n",
              "      <td>0.0</td>\n",
              "      <td>1.0</td>\n",
              "      <td>1.0</td>\n",
              "    </tr>\n",
              "    <tr>\n",
              "      <th>1</th>\n",
              "      <td>HOBBIES_1_002_CA_1_validation</td>\n",
              "      <td>1.0</td>\n",
              "      <td>1.0</td>\n",
              "      <td>1.0</td>\n",
              "      <td>1.0</td>\n",
              "      <td>1.0</td>\n",
              "      <td>1.0</td>\n",
              "      <td>1.0</td>\n",
              "      <td>1.0</td>\n",
              "      <td>1.0</td>\n",
              "      <td>1.0</td>\n",
              "      <td>1.0</td>\n",
              "      <td>1.0</td>\n",
              "      <td>1.0</td>\n",
              "      <td>1.0</td>\n",
              "      <td>1.0</td>\n",
              "      <td>1.0</td>\n",
              "      <td>1.0</td>\n",
              "      <td>1.0</td>\n",
              "      <td>1.0</td>\n",
              "      <td>1.0</td>\n",
              "      <td>1.0</td>\n",
              "      <td>1.0</td>\n",
              "      <td>1.0</td>\n",
              "      <td>1.0</td>\n",
              "      <td>1.0</td>\n",
              "      <td>1.0</td>\n",
              "      <td>1.0</td>\n",
              "      <td>1.0</td>\n",
              "    </tr>\n",
              "    <tr>\n",
              "      <th>2</th>\n",
              "      <td>HOBBIES_1_003_CA_1_validation</td>\n",
              "      <td>1.0</td>\n",
              "      <td>1.0</td>\n",
              "      <td>1.0</td>\n",
              "      <td>1.0</td>\n",
              "      <td>1.0</td>\n",
              "      <td>1.0</td>\n",
              "      <td>1.0</td>\n",
              "      <td>1.0</td>\n",
              "      <td>1.0</td>\n",
              "      <td>1.0</td>\n",
              "      <td>1.0</td>\n",
              "      <td>1.0</td>\n",
              "      <td>1.0</td>\n",
              "      <td>1.0</td>\n",
              "      <td>1.0</td>\n",
              "      <td>1.0</td>\n",
              "      <td>1.0</td>\n",
              "      <td>1.0</td>\n",
              "      <td>1.0</td>\n",
              "      <td>1.0</td>\n",
              "      <td>1.0</td>\n",
              "      <td>1.0</td>\n",
              "      <td>1.0</td>\n",
              "      <td>1.0</td>\n",
              "      <td>1.0</td>\n",
              "      <td>1.0</td>\n",
              "      <td>1.0</td>\n",
              "      <td>1.0</td>\n",
              "    </tr>\n",
              "    <tr>\n",
              "      <th>3</th>\n",
              "      <td>HOBBIES_1_004_CA_1_validation</td>\n",
              "      <td>1.0</td>\n",
              "      <td>1.0</td>\n",
              "      <td>1.0</td>\n",
              "      <td>1.0</td>\n",
              "      <td>1.0</td>\n",
              "      <td>1.0</td>\n",
              "      <td>1.0</td>\n",
              "      <td>1.0</td>\n",
              "      <td>1.0</td>\n",
              "      <td>1.0</td>\n",
              "      <td>1.0</td>\n",
              "      <td>1.0</td>\n",
              "      <td>1.0</td>\n",
              "      <td>1.0</td>\n",
              "      <td>1.0</td>\n",
              "      <td>1.0</td>\n",
              "      <td>1.0</td>\n",
              "      <td>1.0</td>\n",
              "      <td>1.0</td>\n",
              "      <td>1.0</td>\n",
              "      <td>1.0</td>\n",
              "      <td>1.0</td>\n",
              "      <td>1.0</td>\n",
              "      <td>1.0</td>\n",
              "      <td>1.0</td>\n",
              "      <td>1.0</td>\n",
              "      <td>1.0</td>\n",
              "      <td>1.0</td>\n",
              "    </tr>\n",
              "    <tr>\n",
              "      <th>4</th>\n",
              "      <td>HOBBIES_1_005_CA_1_validation</td>\n",
              "      <td>1.0</td>\n",
              "      <td>1.0</td>\n",
              "      <td>1.0</td>\n",
              "      <td>1.0</td>\n",
              "      <td>1.0</td>\n",
              "      <td>1.0</td>\n",
              "      <td>1.0</td>\n",
              "      <td>1.0</td>\n",
              "      <td>1.0</td>\n",
              "      <td>1.0</td>\n",
              "      <td>1.0</td>\n",
              "      <td>1.0</td>\n",
              "      <td>1.0</td>\n",
              "      <td>1.0</td>\n",
              "      <td>1.0</td>\n",
              "      <td>1.0</td>\n",
              "      <td>1.0</td>\n",
              "      <td>1.0</td>\n",
              "      <td>1.0</td>\n",
              "      <td>1.0</td>\n",
              "      <td>1.0</td>\n",
              "      <td>1.0</td>\n",
              "      <td>1.0</td>\n",
              "      <td>1.0</td>\n",
              "      <td>1.0</td>\n",
              "      <td>1.0</td>\n",
              "      <td>1.0</td>\n",
              "      <td>1.0</td>\n",
              "    </tr>\n",
              "    <tr>\n",
              "      <th>...</th>\n",
              "      <td>...</td>\n",
              "      <td>...</td>\n",
              "      <td>...</td>\n",
              "      <td>...</td>\n",
              "      <td>...</td>\n",
              "      <td>...</td>\n",
              "      <td>...</td>\n",
              "      <td>...</td>\n",
              "      <td>...</td>\n",
              "      <td>...</td>\n",
              "      <td>...</td>\n",
              "      <td>...</td>\n",
              "      <td>...</td>\n",
              "      <td>...</td>\n",
              "      <td>...</td>\n",
              "      <td>...</td>\n",
              "      <td>...</td>\n",
              "      <td>...</td>\n",
              "      <td>...</td>\n",
              "      <td>...</td>\n",
              "      <td>...</td>\n",
              "      <td>...</td>\n",
              "      <td>...</td>\n",
              "      <td>...</td>\n",
              "      <td>...</td>\n",
              "      <td>...</td>\n",
              "      <td>...</td>\n",
              "      <td>...</td>\n",
              "      <td>...</td>\n",
              "    </tr>\n",
              "    <tr>\n",
              "      <th>60975</th>\n",
              "      <td>FOODS_3_823_WI_3_evaluation</td>\n",
              "      <td>1.0</td>\n",
              "      <td>1.0</td>\n",
              "      <td>1.0</td>\n",
              "      <td>1.0</td>\n",
              "      <td>1.0</td>\n",
              "      <td>1.0</td>\n",
              "      <td>1.0</td>\n",
              "      <td>1.0</td>\n",
              "      <td>1.0</td>\n",
              "      <td>1.0</td>\n",
              "      <td>1.0</td>\n",
              "      <td>1.0</td>\n",
              "      <td>1.0</td>\n",
              "      <td>1.0</td>\n",
              "      <td>1.0</td>\n",
              "      <td>1.0</td>\n",
              "      <td>1.0</td>\n",
              "      <td>1.0</td>\n",
              "      <td>1.0</td>\n",
              "      <td>1.0</td>\n",
              "      <td>1.0</td>\n",
              "      <td>1.0</td>\n",
              "      <td>1.0</td>\n",
              "      <td>1.0</td>\n",
              "      <td>1.0</td>\n",
              "      <td>1.0</td>\n",
              "      <td>1.0</td>\n",
              "      <td>1.0</td>\n",
              "    </tr>\n",
              "    <tr>\n",
              "      <th>60976</th>\n",
              "      <td>FOODS_3_824_WI_3_evaluation</td>\n",
              "      <td>1.0</td>\n",
              "      <td>1.0</td>\n",
              "      <td>1.0</td>\n",
              "      <td>1.0</td>\n",
              "      <td>1.0</td>\n",
              "      <td>1.0</td>\n",
              "      <td>1.0</td>\n",
              "      <td>1.0</td>\n",
              "      <td>1.0</td>\n",
              "      <td>1.0</td>\n",
              "      <td>1.0</td>\n",
              "      <td>1.0</td>\n",
              "      <td>1.0</td>\n",
              "      <td>1.0</td>\n",
              "      <td>1.0</td>\n",
              "      <td>1.0</td>\n",
              "      <td>1.0</td>\n",
              "      <td>1.0</td>\n",
              "      <td>1.0</td>\n",
              "      <td>1.0</td>\n",
              "      <td>1.0</td>\n",
              "      <td>1.0</td>\n",
              "      <td>1.0</td>\n",
              "      <td>1.0</td>\n",
              "      <td>1.0</td>\n",
              "      <td>1.0</td>\n",
              "      <td>1.0</td>\n",
              "      <td>1.0</td>\n",
              "    </tr>\n",
              "    <tr>\n",
              "      <th>60977</th>\n",
              "      <td>FOODS_3_825_WI_3_evaluation</td>\n",
              "      <td>1.0</td>\n",
              "      <td>0.0</td>\n",
              "      <td>0.0</td>\n",
              "      <td>0.0</td>\n",
              "      <td>1.0</td>\n",
              "      <td>1.0</td>\n",
              "      <td>1.0</td>\n",
              "      <td>1.0</td>\n",
              "      <td>0.0</td>\n",
              "      <td>0.0</td>\n",
              "      <td>0.0</td>\n",
              "      <td>1.0</td>\n",
              "      <td>1.0</td>\n",
              "      <td>1.0</td>\n",
              "      <td>1.0</td>\n",
              "      <td>0.0</td>\n",
              "      <td>0.0</td>\n",
              "      <td>0.0</td>\n",
              "      <td>1.0</td>\n",
              "      <td>1.0</td>\n",
              "      <td>1.0</td>\n",
              "      <td>1.0</td>\n",
              "      <td>0.0</td>\n",
              "      <td>0.0</td>\n",
              "      <td>0.0</td>\n",
              "      <td>1.0</td>\n",
              "      <td>1.0</td>\n",
              "      <td>1.0</td>\n",
              "    </tr>\n",
              "    <tr>\n",
              "      <th>60978</th>\n",
              "      <td>FOODS_3_826_WI_3_evaluation</td>\n",
              "      <td>1.0</td>\n",
              "      <td>0.0</td>\n",
              "      <td>0.0</td>\n",
              "      <td>0.0</td>\n",
              "      <td>1.0</td>\n",
              "      <td>1.0</td>\n",
              "      <td>1.0</td>\n",
              "      <td>1.0</td>\n",
              "      <td>0.0</td>\n",
              "      <td>0.0</td>\n",
              "      <td>0.0</td>\n",
              "      <td>1.0</td>\n",
              "      <td>1.0</td>\n",
              "      <td>1.0</td>\n",
              "      <td>1.0</td>\n",
              "      <td>0.0</td>\n",
              "      <td>0.0</td>\n",
              "      <td>0.0</td>\n",
              "      <td>1.0</td>\n",
              "      <td>1.0</td>\n",
              "      <td>1.0</td>\n",
              "      <td>1.0</td>\n",
              "      <td>0.0</td>\n",
              "      <td>0.0</td>\n",
              "      <td>0.0</td>\n",
              "      <td>1.0</td>\n",
              "      <td>1.0</td>\n",
              "      <td>1.0</td>\n",
              "    </tr>\n",
              "    <tr>\n",
              "      <th>60979</th>\n",
              "      <td>FOODS_3_827_WI_3_evaluation</td>\n",
              "      <td>1.0</td>\n",
              "      <td>1.0</td>\n",
              "      <td>1.0</td>\n",
              "      <td>1.0</td>\n",
              "      <td>1.0</td>\n",
              "      <td>2.0</td>\n",
              "      <td>2.0</td>\n",
              "      <td>1.0</td>\n",
              "      <td>1.0</td>\n",
              "      <td>1.0</td>\n",
              "      <td>1.0</td>\n",
              "      <td>1.0</td>\n",
              "      <td>2.0</td>\n",
              "      <td>2.0</td>\n",
              "      <td>1.0</td>\n",
              "      <td>1.0</td>\n",
              "      <td>1.0</td>\n",
              "      <td>1.0</td>\n",
              "      <td>1.0</td>\n",
              "      <td>2.0</td>\n",
              "      <td>2.0</td>\n",
              "      <td>1.0</td>\n",
              "      <td>1.0</td>\n",
              "      <td>1.0</td>\n",
              "      <td>1.0</td>\n",
              "      <td>1.0</td>\n",
              "      <td>2.0</td>\n",
              "      <td>2.0</td>\n",
              "    </tr>\n",
              "  </tbody>\n",
              "</table>\n",
              "<p>60980 rows × 29 columns</p>\n",
              "</div>"
            ],
            "text/plain": [
              "                                  id   F1   F2   F3  ...  F25  F26  F27  F28\n",
              "0      HOBBIES_1_001_CA_1_validation  0.0  0.0  0.0  ...  0.0  0.0  1.0  1.0\n",
              "1      HOBBIES_1_002_CA_1_validation  1.0  1.0  1.0  ...  1.0  1.0  1.0  1.0\n",
              "2      HOBBIES_1_003_CA_1_validation  1.0  1.0  1.0  ...  1.0  1.0  1.0  1.0\n",
              "3      HOBBIES_1_004_CA_1_validation  1.0  1.0  1.0  ...  1.0  1.0  1.0  1.0\n",
              "4      HOBBIES_1_005_CA_1_validation  1.0  1.0  1.0  ...  1.0  1.0  1.0  1.0\n",
              "...                              ...  ...  ...  ...  ...  ...  ...  ...  ...\n",
              "60975    FOODS_3_823_WI_3_evaluation  1.0  1.0  1.0  ...  1.0  1.0  1.0  1.0\n",
              "60976    FOODS_3_824_WI_3_evaluation  1.0  1.0  1.0  ...  1.0  1.0  1.0  1.0\n",
              "60977    FOODS_3_825_WI_3_evaluation  1.0  0.0  0.0  ...  0.0  1.0  1.0  1.0\n",
              "60978    FOODS_3_826_WI_3_evaluation  1.0  0.0  0.0  ...  0.0  1.0  1.0  1.0\n",
              "60979    FOODS_3_827_WI_3_evaluation  1.0  1.0  1.0  ...  1.0  1.0  2.0  2.0\n",
              "\n",
              "[60980 rows x 29 columns]"
            ]
          },
          "metadata": {
            "tags": []
          },
          "execution_count": 50
        }
      ]
    },
    {
      "cell_type": "code",
      "metadata": {
        "id": "9HJv5TwzGadG",
        "colab_type": "code",
        "colab": {}
      },
      "source": [
        "df_predf.to_csv('/content/drive/My Drive/prediction_gbrt.csv', encoding= 'UTF-8', index= False )"
      ],
      "execution_count": null,
      "outputs": []
    }
  ]
}